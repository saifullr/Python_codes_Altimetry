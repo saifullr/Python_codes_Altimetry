{
 "cells": [
  {
   "cell_type": "markdown",
   "id": "99326d81",
   "metadata": {},
   "source": [
    "# Table of Contents\n",
    "* [1.Library Import](#chapter1)\n",
    "* [2.Function Definition](#chapter2)\n",
    "* [3.Searching and Downloading L2 Products](#chapter3)\n",
    "* [4.Searching and Downloading L3 Products](#chapter4)\n",
    "   "
   ]
  },
  {
   "cell_type": "code",
   "execution_count": 3,
   "id": "0e0b6978",
   "metadata": {},
   "outputs": [
    {
     "data": {
      "text/html": [
       "<style>\n",
       "body {font-family: Trebuchet MS}\n",
       "p {font-family: Trebuchet MS}\n",
       "h1   {color:black;background-color:}\n",
       ".exo {background-color:red;border: none;color: white;padding: 15px 32px;\n",
       "  text-align: center;text-decoration: none;display: inline-block;font-size: 16px;\n",
       "  margin: 4px 2px;}\n",
       "  \n",
       ".trick {background-color:yellow;border: none;color: red;padding: 10px 10px;\n",
       "  text-align: center;text-decoration: none;display: inline-block;font-size: 20px;\n",
       "  margin: 4px 2px;}\n",
       "\n",
       "</style>\n"
      ],
      "text/plain": [
       "<IPython.core.display.HTML object>"
      ]
     },
     "metadata": {},
     "output_type": "display_data"
    }
   ],
   "source": [
    "%%html\n",
    "<style>\n",
    "body {font-family: Trebuchet MS}\n",
    "p {font-family: Trebuchet MS}\n",
    "h1   {color:black;background-color:}\n",
    ".exo {background-color:red;border: none;color: white;padding: 15px 32px;\n",
    "  text-align: center;text-decoration: none;display: inline-block;font-size: 16px;\n",
    "  margin: 4px 2px;}\n",
    "  \n",
    ".trick {background-color:yellow;border: none;color: red;padding: 10px 10px;\n",
    "  text-align: center;text-decoration: none;display: inline-block;font-size: 20px;\n",
    "  margin: 4px 2px;}\n",
    "\n",
    "</style>"
   ]
  },
  {
   "cell_type": "markdown",
   "id": "53fcb638",
   "metadata": {},
   "source": [
    "### © All the code and part of the notebook was created by Nusrat Jahan, PhD student at LIENSs, La Rochelle. \n",
    "\n",
    "\n",
    "This notebook contains some examples how to search and download SWOT data from Aviso website. In order to access Aviso database, one must have an Aviso+ account. The user can provide user id and password directly or can keep them on the swot.ini configuration file [ftp_aviso_plus].\n",
    "\n",
    "The current status of publicly available data in Aviso database are given below:\n",
    "\n",
    "| Product level |  Version   |       Orbit type       |  Product type  |\n",
    "|:-------------:|:----------:|:----------------------:|:--------------:|\n",
    "|      L2       |    PIB0    | Science (21 day orbit) |     basic      |\n",
    "|               |            |  calval (1 day orbit)  |     expert     |\n",
    "|               |            |                        |   unsmoothed   |\n",
    "|               |            |                        |   wind-wave    |\n",
    "|      L3       | alpha_v0_3 | Science (21 day orbit) |     basic      |\n",
    "|               |            |  calval (1 day orbit)  |     expert     |\n",
    "\n"
   ]
  },
  {
   "cell_type": "markdown",
   "id": "f93516e0",
   "metadata": {},
   "source": [
    "# 1. Library import"
   ]
  },
  {
   "cell_type": "code",
   "execution_count": 1,
   "id": "03bf6973",
   "metadata": {},
   "outputs": [],
   "source": [
    "%matplotlib notebook\n",
    "import numpy as np\n",
    "import pandas as pd\n",
    "from ftplib import FTP\n",
    "import sys\n",
    "sys.path.append('C:/Academic La Rochelle/M2/Internship/Data/swot/')"
   ]
  },
  {
   "cell_type": "markdown",
   "id": "b68c3a2a",
   "metadata": {},
   "source": [
    "# 2. Function Definition "
   ]
  },
  {
   "cell_type": "markdown",
   "id": "7792bdb4",
   "metadata": {},
   "source": [
    "1. **`connect_ftp` Function:**\n",
    "     - Establishes a connection to an FTP (File Transfer Protocol) server.\n",
    "     - Checks if `userid` and `userpass` are provided (and are strings or lists).\n",
    "     - Attempts to connect to the FTP server at `ftp_host`.\n",
    "     - Tries to log in with the provided `userid` and `userpass`.\n",
    "     - Returns the `FTP` object if successful, otherwise prints an error message.\n",
    "     \n",
    "\n",
    "2. **`get_data_dir` Function:**\n",
    "   - Constructs a directory path based on specified parameters, used to navigate within the FTP server.\n",
    "   - Constructs and returns a string representing a directory path based on the provided parameters.\n",
    "   - If the parameters don't match expected values, it prints an error message.\n",
    "   \n",
    "\n",
    "3. **`ftp_data_query` Function:**\n",
    "   - Queries the FTP server for files in a specific directory and extracts relevant information.\n",
    "   - Lists all files in the specified `data_dir`.\n",
    "   - Extracts and processes information from file names, such as cycle numbers, pass IDs, start and end times.\n",
    "   - Returns a pandas DataFrame containing this extracted information.\n",
    "   \n",
    "\n",
    "4. **`filter_cycle` Function:**\n",
    "   - Filters the provided DataFrame based on specified cycle numbers.\n",
    "   - If `cycle` is 'all', sorts `df` by `sorting_col` and resets the index as specified.\n",
    "   - If `cycle` is a list of specific cycles, filters `df` to include only those cycles, sorts it, and resets the index.\n",
    "   - Returns the filtered and sorted DataFrame.\n",
    "\n"
   ]
  },
  {
   "cell_type": "code",
   "execution_count": 2,
   "id": "2d8d6ca2",
   "metadata": {},
   "outputs": [],
   "source": [
    "def connect_ftp(userid=None, userpass=None, ftp_host='ftp-access.aviso.altimetry.fr'):\n",
    "\n",
    "    if isinstance(userid, (str, list)) & isinstance(userpass, (str, list)):\n",
    "        ftp = FTP(ftp_host)\n",
    "        ftp.login(user=userid, passwd=userpass)\n",
    "    else:\n",
    "        print('Provide valid userid and password')\n",
    "    return ftp\n",
    "\n",
    "\n",
    "def get_data_dir(plevel, orbit, ptype, version):\n",
    "    if 'l2' in plevel:\n",
    "        if orbit == 'science':\n",
    "            return f'/swot_beta_products/l2_karin/l2_lr_ssh/{version}/21day_orbit/{ptype}'\n",
    "        elif orbit == 'calval':\n",
    "            return f'/swot_beta_products/l2_karin/l2_lr_ssh/{version}/1day_orbit/{ptype}'\n",
    "        else:\n",
    "            print(\"Not a valid orbit type, provide either 'science' or 'calval'.\")\n",
    "    if 'l3' in plevel:\n",
    "        if orbit == 'science':\n",
    "            return f'/swot_beta_products/l3_karin_nadir/21day_orbit/{ptype}/{version}'\n",
    "        elif orbit == 'calval':\n",
    "            return f'/swot_beta_products/l3_karin_nadir/1day_orbit/{ptype}/{version}'\n",
    "        else:\n",
    "            print(\"Not a valid orbit type, provide either 'science' or 'calval'.\")\n",
    "\n",
    "\n",
    "def ftp_data_query(ftp, data_dir):\n",
    "    files = ftp.nlst(data_dir)\n",
    "    fnames = np.array([file.split('/')[-1] for file in files])\n",
    "    cycles = np.array([int(file.split('/')[-1].split('_')[5]) for file in files])\n",
    "    passIDs = np.array([int(file.split('/')[-1].split('_')[6]) for file in files])\n",
    "    start_time = np.array([pd.to_datetime(file.split('/')[-1].split('_')[7]) for file in files])\n",
    "    end_time = np.array([pd.to_datetime(file.split('/')[-1].split('_')[8]) for file in files])\n",
    "\n",
    "    return pd.DataFrame(dict(cycle=cycles, passID=passIDs, start_time=start_time, end_time=end_time, file_names=fnames))\n",
    "\n",
    "\n",
    "def filter_cycle(df, cycle, reset_idx=['passID', 'cycle'], sorting_col=['passID']):\n",
    "    if cycle == 'all':\n",
    "        df = df.sort_values(by=sorting_col)\n",
    "        df.set_index(reset_idx, inplace=True)\n",
    "        return df\n",
    "    else:\n",
    "        df_c = pd.DataFrame()\n",
    "        for c in cycle:\n",
    "            temp_df = df[df.cycle == c]\n",
    "            df_c = pd.concat([df_c, temp_df])\n",
    "        df_c = df_c.sort_values(by=sorting_col)\n",
    "        df_c.set_index(reset_idx, inplace=True)\n",
    "        return df_c\n"
   ]
  },
  {
   "cell_type": "markdown",
   "id": "7cee3d13",
   "metadata": {},
   "source": [
    "5. **`download_files` Function:**\n",
    "   - **Purpose:** Downloads files from an FTP server to a specified local directory.\n",
    "   - Iterates through each file in the `files` list.\n",
    "   - For each file, it opens (or creates) a file in the `destination_path` and writes the binary data retrieved from the FTP server.\n",
    "   - Uses the FTP `RETR` command to retrieve each file.\n",
    "\n",
    "6. **`search` Function:**\n",
    "   - Searches for available data files on an FTP server based on specified criteria.\n",
    "   - Connects to the FTP server using the provided credentials.\n",
    "   - Constructs a data directory path based on the given parameters.\n",
    "   - Queries the FTP server for files in the constructed directory.\n",
    "   - Filters the query results based on the specified `passID` and `cycle`.\n",
    "   - Closes the FTP connection.\n",
    "   - Prints the filtered data if `print_result` is `True`.\n",
    "   - Returns a DataFrame with the query results.\n",
    "\n",
    "7. **`download` Function:**\n",
    "   - Function for  download files from an FTP server.\n",
    "   - Calls the `search` function to find files based on the specified criteria.\n",
    "   - Establishes an FTP connection and changes the working directory to the relevant data directory.\n",
    "   - Retrieves the list of filenames from the search results.\n",
    "   - Downloads each file to the specified `destination_path` using the `download_files` function.\n",
    "   - Closes the FTP connection.\n",
    "\n"
   ]
  },
  {
   "cell_type": "code",
   "execution_count": 3,
   "id": "6890bf29",
   "metadata": {},
   "outputs": [],
   "source": [
    "def download_files(ftp, files, destination_path):\n",
    "    for file in files:\n",
    "        print(\"....downloading file \", file)\n",
    "        with open(destination_path + f\"/{file}\", 'wb') as lf:\n",
    "            ftp.retrbinary(\"RETR \" + file, lf.write)\n",
    "            \n",
    "\n",
    "\n",
    "\n",
    "def search(orbit, plevel, ptype, version='alpha_v0_3', passID='all', cycle='all', ftp_userid=None, ftp_userpass=None,\n",
    "           print_result=True):\n",
    "    # user ID and password for Aviso plus. need to be in swot.ini file under [ftp_aviso_plus] if not given by the user directly.\n",
    "    ftp = connect_ftp(ftp_userid, ftp_userpass)\n",
    "    data_dir = get_data_dir(plevel, orbit, ptype, version)\n",
    "    df_query = ftp_data_query(ftp, data_dir)\n",
    "    ftp.close()\n",
    "\n",
    "    if passID == 'all':\n",
    "        df = filter_cycle(df_query, cycle, reset_idx=['cycle', 'passID'], sorting_col=['cycle'])\n",
    "    else:\n",
    "        df = pd.DataFrame()\n",
    "        for id in passID:\n",
    "            temp_df = df_query[df_query.passID == id]\n",
    "            df = pd.concat([df, temp_df])\n",
    "\n",
    "        df = filter_cycle(df, cycle, sorting_col=['cycle'])\n",
    "\n",
    "    if len(df) != 0:\n",
    "        if print_result:\n",
    "            print(f'Available data on the server:')\n",
    "            return df\n",
    "        else:\n",
    "            return df\n",
    "\n",
    "    else:\n",
    "        print(f'There is no data available for pass:{passID} and cycle:{cycle}.')\n",
    "\n",
    "\n",
    "def download(destination_path, orbit, plevel, ptype, version='alpha_v0_3', passID='all', cycle='all',\n",
    "             ftp_userid=None, ftp_userpass=None):\n",
    "\n",
    "    df_query = search(orbit, plevel, ptype, version, passID, cycle, print_result=False)\n",
    "    data_dir =get_data_dir(plevel, orbit, ptype, version)\n",
    "    ftp = connect_ftp(ftp_userid, ftp_userpass)\n",
    "    ftp.cwd(data_dir)\n",
    "\n",
    "    files = df_query.file_names.values\n",
    "\n",
    "    download_files(ftp, files, destination_path)\n",
    "\n",
    "    ftp.close()"
   ]
  },
  {
   "cell_type": "markdown",
   "id": "8cacb00c",
   "metadata": {},
   "source": [
    "# 3. Searching and downloading L2 products\n",
    "\n",
    "## Example: Searching and dwonloading available 'basic' product for specific pass/passes (here we are looking for pass 348 and 419) in science orbit.\n",
    "\n",
    "__The options for different argument (i.e., orbit, product level, product type, product version etc.) can be obtained from the table above.__\n",
    "\n",
    "The query dataset contains passId, cycle, starting & ending time of the passes and corresponding file names."
   ]
  },
  {
   "cell_type": "code",
   "execution_count": 4,
   "id": "903a0124",
   "metadata": {},
   "outputs": [
    {
     "name": "stdout",
     "output_type": "stream",
     "text": [
      "Available data on the server:\n"
     ]
    },
    {
     "data": {
      "text/html": [
       "<div>\n",
       "<style scoped>\n",
       "    .dataframe tbody tr th:only-of-type {\n",
       "        vertical-align: middle;\n",
       "    }\n",
       "\n",
       "    .dataframe tbody tr th {\n",
       "        vertical-align: top;\n",
       "    }\n",
       "\n",
       "    .dataframe thead th {\n",
       "        text-align: right;\n",
       "    }\n",
       "</style>\n",
       "<table border=\"1\" class=\"dataframe\">\n",
       "  <thead>\n",
       "    <tr style=\"text-align: right;\">\n",
       "      <th></th>\n",
       "      <th></th>\n",
       "      <th>start_time</th>\n",
       "      <th>end_time</th>\n",
       "      <th>file_names</th>\n",
       "    </tr>\n",
       "    <tr>\n",
       "      <th>passID</th>\n",
       "      <th>cycle</th>\n",
       "      <th></th>\n",
       "      <th></th>\n",
       "      <th></th>\n",
       "    </tr>\n",
       "  </thead>\n",
       "  <tbody>\n",
       "    <tr>\n",
       "      <th rowspan=\"3\" valign=\"top\">564</th>\n",
       "      <th>3</th>\n",
       "      <td>2023-09-21 01:48:39</td>\n",
       "      <td>2023-09-21 02:39:25</td>\n",
       "      <td>SWOT_L2_LR_SSH_Basic_003_564_20230921T014839_2...</td>\n",
       "    </tr>\n",
       "    <tr>\n",
       "      <th>4</th>\n",
       "      <td>2023-10-11 22:33:41</td>\n",
       "      <td>2023-10-11 23:24:26</td>\n",
       "      <td>SWOT_L2_LR_SSH_Basic_004_564_20231011T223341_2...</td>\n",
       "    </tr>\n",
       "    <tr>\n",
       "      <th>5</th>\n",
       "      <td>2023-11-01 19:18:46</td>\n",
       "      <td>2023-11-01 20:09:32</td>\n",
       "      <td>SWOT_L2_LR_SSH_Basic_005_564_20231101T191846_2...</td>\n",
       "    </tr>\n",
       "  </tbody>\n",
       "</table>\n",
       "</div>"
      ],
      "text/plain": [
       "                      start_time            end_time  \\\n",
       "passID cycle                                           \n",
       "564    3     2023-09-21 01:48:39 2023-09-21 02:39:25   \n",
       "       4     2023-10-11 22:33:41 2023-10-11 23:24:26   \n",
       "       5     2023-11-01 19:18:46 2023-11-01 20:09:32   \n",
       "\n",
       "                                                     file_names  \n",
       "passID cycle                                                     \n",
       "564    3      SWOT_L2_LR_SSH_Basic_003_564_20230921T014839_2...  \n",
       "       4      SWOT_L2_LR_SSH_Basic_004_564_20231011T223341_2...  \n",
       "       5      SWOT_L2_LR_SSH_Basic_005_564_20231101T191846_2...  "
      ]
     },
     "execution_count": 4,
     "metadata": {},
     "output_type": "execute_result"
    }
   ],
   "source": [
    "#Provide user id and password here \n",
    "\n",
    "userid = 'md.islam@etudiant.univ-lr.fr'\n",
    "userpass = '3A8JFo'\n",
    "search(orbit='science',plevel='l2',ptype='basic', version='PIB0', passID=[564], ftp_userid=userid, ftp_userpass=userpass)"
   ]
  },
  {
   "cell_type": "markdown",
   "id": "49cf2feb",
   "metadata": {},
   "source": [
    "So, for pass 348, SWOT products from cycle 4 to 6 and for pass 419 only cycle 3 are available. Now one can download any available data as following "
   ]
  },
  {
   "cell_type": "code",
   "execution_count": null,
   "id": "7d649113",
   "metadata": {},
   "outputs": [],
   "source": [
    "# one must define a destination path\n",
    "destination_path = r\"T:\\swot\\data\\SWOT_L2_LR\"\n",
    "# using the download function to download all available data from the query\n",
    "download(destination_path, orbit='science',plevel='l2',ptype='basic', version='PIB0', passID=[348, 419])"
   ]
  },
  {
   "cell_type": "code",
   "execution_count": null,
   "id": "5c3f13fb",
   "metadata": {},
   "outputs": [],
   "source": [
    "# To download any specific cycle for a specific file. For example, for pass 348, cycle 4\n",
    "download(destination_path, orbit='science',plevel='l2',ptype='basic', version='PIB0', passID=[348], cycle=[4])"
   ]
  },
  {
   "cell_type": "markdown",
   "id": "0fcaf5c8",
   "metadata": {},
   "source": [
    "- One can change the ptype to 'expert' or 'unsmoothed' or 'wind-wave' to search and download any of these types of products. \n",
    "- Similarly, one can change the orbit to 'calval' to access the data from Cal/Val phase. \n",
    "- As for version, right now 'PIB0' is the only publicly available data on the Aviso database."
   ]
  },
  {
   "cell_type": "markdown",
   "id": "c8163d69",
   "metadata": {},
   "source": [
    "# 4. Searching and downloading L3 products\n",
    "## Example: Searching and dwonloading available 'basic' product for specific pass/passes (here we are looking for pass 189) in science orbit."
   ]
  },
  {
   "cell_type": "code",
   "execution_count": 5,
   "id": "6aea9627",
   "metadata": {
    "scrolled": false
   },
   "outputs": [
    {
     "ename": "error_temp",
     "evalue": "450 /swot_beta_products/l3_karin_nadir/21day_orbit/basic/alpha_v0_3: No such file or directory",
     "output_type": "error",
     "traceback": [
      "\u001b[1;31m---------------------------------------------------------------------------\u001b[0m",
      "\u001b[1;31merror_temp\u001b[0m                                Traceback (most recent call last)",
      "Cell \u001b[1;32mIn[5], line 4\u001b[0m\n\u001b[0;32m      1\u001b[0m \u001b[38;5;66;03m#Provide user id and password\u001b[39;00m\n\u001b[0;32m      2\u001b[0m \u001b[38;5;66;03m#userid = None\u001b[39;00m\n\u001b[0;32m      3\u001b[0m \u001b[38;5;66;03m#userpass = None\u001b[39;00m\n\u001b[1;32m----> 4\u001b[0m search(orbit\u001b[38;5;241m=\u001b[39m\u001b[38;5;124m'\u001b[39m\u001b[38;5;124mscience\u001b[39m\u001b[38;5;124m'\u001b[39m,plevel\u001b[38;5;241m=\u001b[39m\u001b[38;5;124m'\u001b[39m\u001b[38;5;124ml3\u001b[39m\u001b[38;5;124m'\u001b[39m,ptype\u001b[38;5;241m=\u001b[39m\u001b[38;5;124m'\u001b[39m\u001b[38;5;124mbasic\u001b[39m\u001b[38;5;124m'\u001b[39m, version\u001b[38;5;241m=\u001b[39m\u001b[38;5;124m'\u001b[39m\u001b[38;5;124malpha_v0_3\u001b[39m\u001b[38;5;124m'\u001b[39m, passID\u001b[38;5;241m=\u001b[39m[\u001b[38;5;241m564\u001b[39m],cycle\u001b[38;5;241m=\u001b[39m\u001b[38;5;124m'\u001b[39m\u001b[38;5;124mall\u001b[39m\u001b[38;5;124m'\u001b[39m, ftp_userid\u001b[38;5;241m=\u001b[39muserid, ftp_userpass\u001b[38;5;241m=\u001b[39muserpass)\n",
      "Cell \u001b[1;32mIn[3], line 15\u001b[0m, in \u001b[0;36msearch\u001b[1;34m(orbit, plevel, ptype, version, passID, cycle, ftp_userid, ftp_userpass, print_result)\u001b[0m\n\u001b[0;32m     13\u001b[0m ftp \u001b[38;5;241m=\u001b[39m connect_ftp(ftp_userid, ftp_userpass)\n\u001b[0;32m     14\u001b[0m data_dir \u001b[38;5;241m=\u001b[39m get_data_dir(plevel, orbit, ptype, version)\n\u001b[1;32m---> 15\u001b[0m df_query \u001b[38;5;241m=\u001b[39m ftp_data_query(ftp, data_dir)\n\u001b[0;32m     16\u001b[0m ftp\u001b[38;5;241m.\u001b[39mclose()\n\u001b[0;32m     18\u001b[0m \u001b[38;5;28;01mif\u001b[39;00m passID \u001b[38;5;241m==\u001b[39m \u001b[38;5;124m'\u001b[39m\u001b[38;5;124mall\u001b[39m\u001b[38;5;124m'\u001b[39m:\n",
      "Cell \u001b[1;32mIn[2], line 29\u001b[0m, in \u001b[0;36mftp_data_query\u001b[1;34m(ftp, data_dir)\u001b[0m\n\u001b[0;32m     28\u001b[0m \u001b[38;5;28;01mdef\u001b[39;00m \u001b[38;5;21mftp_data_query\u001b[39m(ftp, data_dir):\n\u001b[1;32m---> 29\u001b[0m     files \u001b[38;5;241m=\u001b[39m ftp\u001b[38;5;241m.\u001b[39mnlst(data_dir)\n\u001b[0;32m     30\u001b[0m     fnames \u001b[38;5;241m=\u001b[39m np\u001b[38;5;241m.\u001b[39marray([file\u001b[38;5;241m.\u001b[39msplit(\u001b[38;5;124m'\u001b[39m\u001b[38;5;124m/\u001b[39m\u001b[38;5;124m'\u001b[39m)[\u001b[38;5;241m-\u001b[39m\u001b[38;5;241m1\u001b[39m] \u001b[38;5;28;01mfor\u001b[39;00m file \u001b[38;5;129;01min\u001b[39;00m files])\n\u001b[0;32m     31\u001b[0m     cycles \u001b[38;5;241m=\u001b[39m np\u001b[38;5;241m.\u001b[39marray([\u001b[38;5;28mint\u001b[39m(file\u001b[38;5;241m.\u001b[39msplit(\u001b[38;5;124m'\u001b[39m\u001b[38;5;124m/\u001b[39m\u001b[38;5;124m'\u001b[39m)[\u001b[38;5;241m-\u001b[39m\u001b[38;5;241m1\u001b[39m]\u001b[38;5;241m.\u001b[39msplit(\u001b[38;5;124m'\u001b[39m\u001b[38;5;124m_\u001b[39m\u001b[38;5;124m'\u001b[39m)[\u001b[38;5;241m5\u001b[39m]) \u001b[38;5;28;01mfor\u001b[39;00m file \u001b[38;5;129;01min\u001b[39;00m files])\n",
      "File \u001b[1;32m~\\anaconda3\\Lib\\ftplib.py:553\u001b[0m, in \u001b[0;36mFTP.nlst\u001b[1;34m(self, *args)\u001b[0m\n\u001b[0;32m    551\u001b[0m     cmd \u001b[38;5;241m=\u001b[39m cmd \u001b[38;5;241m+\u001b[39m (\u001b[38;5;124m'\u001b[39m\u001b[38;5;124m \u001b[39m\u001b[38;5;124m'\u001b[39m \u001b[38;5;241m+\u001b[39m arg)\n\u001b[0;32m    552\u001b[0m files \u001b[38;5;241m=\u001b[39m []\n\u001b[1;32m--> 553\u001b[0m \u001b[38;5;28mself\u001b[39m\u001b[38;5;241m.\u001b[39mretrlines(cmd, files\u001b[38;5;241m.\u001b[39mappend)\n\u001b[0;32m    554\u001b[0m \u001b[38;5;28;01mreturn\u001b[39;00m files\n",
      "File \u001b[1;32m~\\anaconda3\\Lib\\ftplib.py:462\u001b[0m, in \u001b[0;36mFTP.retrlines\u001b[1;34m(self, cmd, callback)\u001b[0m\n\u001b[0;32m    460\u001b[0m     callback \u001b[38;5;241m=\u001b[39m print_line\n\u001b[0;32m    461\u001b[0m resp \u001b[38;5;241m=\u001b[39m \u001b[38;5;28mself\u001b[39m\u001b[38;5;241m.\u001b[39msendcmd(\u001b[38;5;124m'\u001b[39m\u001b[38;5;124mTYPE A\u001b[39m\u001b[38;5;124m'\u001b[39m)\n\u001b[1;32m--> 462\u001b[0m \u001b[38;5;28;01mwith\u001b[39;00m \u001b[38;5;28mself\u001b[39m\u001b[38;5;241m.\u001b[39mtransfercmd(cmd) \u001b[38;5;28;01mas\u001b[39;00m conn, \\\n\u001b[0;32m    463\u001b[0m          conn\u001b[38;5;241m.\u001b[39mmakefile(\u001b[38;5;124m'\u001b[39m\u001b[38;5;124mr\u001b[39m\u001b[38;5;124m'\u001b[39m, encoding\u001b[38;5;241m=\u001b[39m\u001b[38;5;28mself\u001b[39m\u001b[38;5;241m.\u001b[39mencoding) \u001b[38;5;28;01mas\u001b[39;00m fp:\n\u001b[0;32m    464\u001b[0m     \u001b[38;5;28;01mwhile\u001b[39;00m \u001b[38;5;241m1\u001b[39m:\n\u001b[0;32m    465\u001b[0m         line \u001b[38;5;241m=\u001b[39m fp\u001b[38;5;241m.\u001b[39mreadline(\u001b[38;5;28mself\u001b[39m\u001b[38;5;241m.\u001b[39mmaxline \u001b[38;5;241m+\u001b[39m \u001b[38;5;241m1\u001b[39m)\n",
      "File \u001b[1;32m~\\anaconda3\\Lib\\ftplib.py:393\u001b[0m, in \u001b[0;36mFTP.transfercmd\u001b[1;34m(self, cmd, rest)\u001b[0m\n\u001b[0;32m    391\u001b[0m \u001b[38;5;28;01mdef\u001b[39;00m \u001b[38;5;21mtransfercmd\u001b[39m(\u001b[38;5;28mself\u001b[39m, cmd, rest\u001b[38;5;241m=\u001b[39m\u001b[38;5;28;01mNone\u001b[39;00m):\n\u001b[0;32m    392\u001b[0m \u001b[38;5;250m    \u001b[39m\u001b[38;5;124;03m\"\"\"Like ntransfercmd() but returns only the socket.\"\"\"\u001b[39;00m\n\u001b[1;32m--> 393\u001b[0m     \u001b[38;5;28;01mreturn\u001b[39;00m \u001b[38;5;28mself\u001b[39m\u001b[38;5;241m.\u001b[39mntransfercmd(cmd, rest)[\u001b[38;5;241m0\u001b[39m]\n",
      "File \u001b[1;32m~\\anaconda3\\Lib\\ftplib.py:359\u001b[0m, in \u001b[0;36mFTP.ntransfercmd\u001b[1;34m(self, cmd, rest)\u001b[0m\n\u001b[0;32m    357\u001b[0m \u001b[38;5;28;01mif\u001b[39;00m rest \u001b[38;5;129;01mis\u001b[39;00m \u001b[38;5;129;01mnot\u001b[39;00m \u001b[38;5;28;01mNone\u001b[39;00m:\n\u001b[0;32m    358\u001b[0m     \u001b[38;5;28mself\u001b[39m\u001b[38;5;241m.\u001b[39msendcmd(\u001b[38;5;124m\"\u001b[39m\u001b[38;5;124mREST \u001b[39m\u001b[38;5;132;01m%s\u001b[39;00m\u001b[38;5;124m\"\u001b[39m \u001b[38;5;241m%\u001b[39m rest)\n\u001b[1;32m--> 359\u001b[0m resp \u001b[38;5;241m=\u001b[39m \u001b[38;5;28mself\u001b[39m\u001b[38;5;241m.\u001b[39msendcmd(cmd)\n\u001b[0;32m    360\u001b[0m \u001b[38;5;66;03m# Some servers apparently send a 200 reply to\u001b[39;00m\n\u001b[0;32m    361\u001b[0m \u001b[38;5;66;03m# a LIST or STOR command, before the 150 reply\u001b[39;00m\n\u001b[0;32m    362\u001b[0m \u001b[38;5;66;03m# (and way before the 226 reply). This seems to\u001b[39;00m\n\u001b[0;32m    363\u001b[0m \u001b[38;5;66;03m# be in violation of the protocol (which only allows\u001b[39;00m\n\u001b[0;32m    364\u001b[0m \u001b[38;5;66;03m# 1xx or error messages for LIST), so we just discard\u001b[39;00m\n\u001b[0;32m    365\u001b[0m \u001b[38;5;66;03m# this response.\u001b[39;00m\n\u001b[0;32m    366\u001b[0m \u001b[38;5;28;01mif\u001b[39;00m resp[\u001b[38;5;241m0\u001b[39m] \u001b[38;5;241m==\u001b[39m \u001b[38;5;124m'\u001b[39m\u001b[38;5;124m2\u001b[39m\u001b[38;5;124m'\u001b[39m:\n",
      "File \u001b[1;32m~\\anaconda3\\Lib\\ftplib.py:281\u001b[0m, in \u001b[0;36mFTP.sendcmd\u001b[1;34m(self, cmd)\u001b[0m\n\u001b[0;32m    279\u001b[0m \u001b[38;5;250m\u001b[39m\u001b[38;5;124;03m'''Send a command and return the response.'''\u001b[39;00m\n\u001b[0;32m    280\u001b[0m \u001b[38;5;28mself\u001b[39m\u001b[38;5;241m.\u001b[39mputcmd(cmd)\n\u001b[1;32m--> 281\u001b[0m \u001b[38;5;28;01mreturn\u001b[39;00m \u001b[38;5;28mself\u001b[39m\u001b[38;5;241m.\u001b[39mgetresp()\n",
      "File \u001b[1;32m~\\anaconda3\\Lib\\ftplib.py:252\u001b[0m, in \u001b[0;36mFTP.getresp\u001b[1;34m(self)\u001b[0m\n\u001b[0;32m    250\u001b[0m     \u001b[38;5;28;01mreturn\u001b[39;00m resp\n\u001b[0;32m    251\u001b[0m \u001b[38;5;28;01mif\u001b[39;00m c \u001b[38;5;241m==\u001b[39m \u001b[38;5;124m'\u001b[39m\u001b[38;5;124m4\u001b[39m\u001b[38;5;124m'\u001b[39m:\n\u001b[1;32m--> 252\u001b[0m     \u001b[38;5;28;01mraise\u001b[39;00m error_temp(resp)\n\u001b[0;32m    253\u001b[0m \u001b[38;5;28;01mif\u001b[39;00m c \u001b[38;5;241m==\u001b[39m \u001b[38;5;124m'\u001b[39m\u001b[38;5;124m5\u001b[39m\u001b[38;5;124m'\u001b[39m:\n\u001b[0;32m    254\u001b[0m     \u001b[38;5;28;01mraise\u001b[39;00m error_perm(resp)\n",
      "\u001b[1;31merror_temp\u001b[0m: 450 /swot_beta_products/l3_karin_nadir/21day_orbit/basic/alpha_v0_3: No such file or directory"
     ]
    }
   ],
   "source": [
    "#Provide user id and password\n",
    "#userid = None\n",
    "#userpass = None\n",
    "search(orbit='science',plevel='l3',ptype='basic', version='alpha_v0_3', passID=[564],cycle='all', ftp_userid=userid, ftp_userpass=userpass)"
   ]
  },
  {
   "cell_type": "markdown",
   "id": "42f31229",
   "metadata": {},
   "source": [
    "So, for pass 189, SWOT products from cycle 3 to 6  are available. Now one can download any available data as following "
   ]
  },
  {
   "cell_type": "code",
   "execution_count": null,
   "id": "3e018a4c",
   "metadata": {},
   "outputs": [],
   "source": [
    "# one must define a destination path\n",
    "destination_path = r\"C:/Academic La Rochelle/M2/Internship/Data/swot/\"\n",
    "# to download one or more specific cycle\n",
    "download(destination_path, orbit='science',plevel='l3',ptype='basic', version='alpha_v0_3', passID=[189], cycle='all', ftp_userid=userid, ftp_userpass=userpass)"
   ]
  }
 ],
 "metadata": {
  "kernelspec": {
   "display_name": "Python 3 (ipykernel)",
   "language": "python",
   "name": "python3"
  },
  "language_info": {
   "codemirror_mode": {
    "name": "ipython",
    "version": 3
   },
   "file_extension": ".py",
   "mimetype": "text/x-python",
   "name": "python",
   "nbconvert_exporter": "python",
   "pygments_lexer": "ipython3",
   "version": "3.11.5"
  }
 },
 "nbformat": 4,
 "nbformat_minor": 5
}
